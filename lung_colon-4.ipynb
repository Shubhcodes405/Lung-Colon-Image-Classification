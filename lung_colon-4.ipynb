{
 "cells": [
  {
   "cell_type": "code",
   "execution_count": 1,
   "id": "6c5e4d00",
   "metadata": {},
   "outputs": [],
   "source": [
    "import tensorflow as tf\n",
    "from keras.preprocessing.image import ImageDataGenerator\n",
    "import matplotlib.pyplot as plt\n",
    "import numpy as np"
   ]
  },
  {
   "cell_type": "code",
   "execution_count": 2,
   "id": "7cf8a89c",
   "metadata": {},
   "outputs": [
    {
     "name": "stdout",
     "output_type": "stream",
     "text": [
      "Found 20000 images belonging to 5 classes.\n"
     ]
    }
   ],
   "source": [
    "# train set\n",
    "train_datagen=ImageDataGenerator(rescale=1./255,shear_range=0.2,zoom_range=0.2,horizontal_flip=True,rotation_range=20,vertical_flip=True)\n",
    "training_set=train_datagen.flow_from_directory(r'lung_colon2\\train',\n",
    "                                               target_size=(100,100),batch_size=50,class_mode='categorical')"
   ]
  },
  {
   "cell_type": "code",
   "execution_count": 3,
   "id": "0afb68ae",
   "metadata": {},
   "outputs": [
    {
     "data": {
      "text/plain": [
       "array([0, 0, 0, ..., 4, 4, 4])"
      ]
     },
     "execution_count": 3,
     "metadata": {},
     "output_type": "execute_result"
    }
   ],
   "source": [
    "training_set.classes"
   ]
  },
  {
   "cell_type": "code",
   "execution_count": 4,
   "id": "04147329",
   "metadata": {},
   "outputs": [
    {
     "name": "stdout",
     "output_type": "stream",
     "text": [
      "Found 5000 images belonging to 5 classes.\n"
     ]
    }
   ],
   "source": [
    "# test set\n",
    "test_datagen=ImageDataGenerator(rescale=1./255)\n",
    "test_set=test_datagen.flow_from_directory(r'lung_colon2\\val',\n",
    "                                          target_size=(100,100),batch_size=50,class_mode='categorical')"
   ]
  },
  {
   "cell_type": "code",
   "execution_count": 5,
   "id": "b4707095",
   "metadata": {},
   "outputs": [
    {
     "data": {
      "text/plain": [
       "array([0, 0, 0, ..., 4, 4, 4])"
      ]
     },
     "execution_count": 5,
     "metadata": {},
     "output_type": "execute_result"
    }
   ],
   "source": [
    "y_test=test_set.classes\n",
    "\n",
    "y_test"
   ]
  },
  {
   "cell_type": "code",
   "execution_count": 6,
   "id": "fd53b7fa",
   "metadata": {},
   "outputs": [],
   "source": [
    "#cnn layers"
   ]
  },
  {
   "cell_type": "code",
   "execution_count": 7,
   "id": "2a785b4c",
   "metadata": {},
   "outputs": [],
   "source": [
    "cnn=tf.keras.models.Sequential()"
   ]
  },
  {
   "cell_type": "code",
   "execution_count": 8,
   "id": "92ceb4b8",
   "metadata": {},
   "outputs": [],
   "source": [
    "cnn.add(tf.keras.layers.Conv2D(filters=50,kernel_size=3,activation='relu',input_shape=[100,100,3]))"
   ]
  },
  {
   "cell_type": "code",
   "execution_count": 9,
   "id": "db480653",
   "metadata": {},
   "outputs": [],
   "source": [
    "cnn.add(tf.keras.layers.MaxPool2D(pool_size=3,strides=3))"
   ]
  },
  {
   "cell_type": "code",
   "execution_count": 10,
   "id": "ef146c68",
   "metadata": {},
   "outputs": [],
   "source": [
    "cnn.add(tf.keras.layers.Conv2D(filters=50,kernel_size=3,activation='relu'))\n",
    "cnn.add(tf.keras.layers.MaxPool2D(pool_size=3,strides=3))"
   ]
  },
  {
   "cell_type": "code",
   "execution_count": 11,
   "id": "8d72f475",
   "metadata": {},
   "outputs": [],
   "source": [
    "cnn.add(tf.keras.layers.Flatten())"
   ]
  },
  {
   "cell_type": "code",
   "execution_count": 12,
   "id": "1cebf643",
   "metadata": {},
   "outputs": [],
   "source": [
    "cnn.add(tf.keras.layers.Dense(units=200,activation='relu'))\n",
    "cnn.add(tf.keras.layers.Dense(units=200,activation='relu'))"
   ]
  },
  {
   "cell_type": "code",
   "execution_count": 13,
   "id": "d3c62b05",
   "metadata": {},
   "outputs": [],
   "source": [
    "cnn.add(tf.keras.layers.Dense(units=5,activation='softmax'))"
   ]
  },
  {
   "cell_type": "code",
   "execution_count": 14,
   "id": "f022081a",
   "metadata": {},
   "outputs": [],
   "source": [
    "#compile"
   ]
  },
  {
   "cell_type": "code",
   "execution_count": 15,
   "id": "aaec8eb9",
   "metadata": {},
   "outputs": [],
   "source": [
    "cnn.compile(optimizer='adam',loss='categorical_crossentropy',metrics=[tf.keras.metrics.Precision(),'accuracy',tf.keras.metrics.Recall()])"
   ]
  },
  {
   "cell_type": "code",
   "execution_count": 16,
   "id": "4adddb64",
   "metadata": {},
   "outputs": [
    {
     "name": "stdout",
     "output_type": "stream",
     "text": [
      "Epoch 1/2\n",
      "400/400 [==============================] - 442s 1s/step - loss: 0.5976 - precision: 0.7641 - accuracy: 0.7315 - recall: 0.6890 - val_loss: 0.5598 - val_precision: 0.7371 - val_accuracy: 0.7332 - val_recall: 0.7280\n",
      "Epoch 2/2\n",
      "400/400 [==============================] - 462s 1s/step - loss: 0.3946 - precision: 0.8324 - accuracy: 0.8295 - recall: 0.8260 - val_loss: 0.4699 - val_precision: 0.7960 - val_accuracy: 0.7938 - val_recall: 0.7920\n"
     ]
    },
    {
     "data": {
      "text/plain": [
       "<keras.callbacks.History at 0x2a962ec53a0>"
      ]
     },
     "execution_count": 16,
     "metadata": {},
     "output_type": "execute_result"
    }
   ],
   "source": [
    "cnn.fit(x=training_set, validation_data=test_set, epochs=2)"
   ]
  },
  {
   "cell_type": "code",
   "execution_count": 17,
   "id": "0af4b379",
   "metadata": {},
   "outputs": [],
   "source": [
    "#Evaluating"
   ]
  },
  {
   "cell_type": "code",
   "execution_count": 18,
   "id": "671b0495",
   "metadata": {},
   "outputs": [
    {
     "name": "stdout",
     "output_type": "stream",
     "text": [
      "100/100 [==============================] - 71s 716ms/step - loss: 0.4699 - precision: 0.7960 - accuracy: 0.7938 - recall: 0.7920\n"
     ]
    }
   ],
   "source": [
    "test_loss,test_precision,test_acc,test_recall=cnn.evaluate(test_set)"
   ]
  },
  {
   "cell_type": "code",
   "execution_count": 19,
   "id": "957af681",
   "metadata": {},
   "outputs": [
    {
     "name": "stdout",
     "output_type": "stream",
     "text": [
      "Loss: 46.99 %\n",
      "Precision: 79.60 %\n",
      "Accuracy: 79.38 %\n",
      "Recall: 79.20 %\n",
      "F1_Score: 79.40%\n"
     ]
    }
   ],
   "source": [
    "print(\"Loss: {:.2f} %\".format(test_loss*100))\n",
    "print(\"Precision: {:.2f} %\".format(test_precision*100))\n",
    "print(\"Accuracy: {:.2f} %\".format(test_acc*100))\n",
    "print(\"Recall: {:.2f} %\".format(test_recall*100))\n",
    "print(\"F1_Score: {:.2f}%\".format(((2*test_precision*test_recall)/(test_recall+test_precision))*100))"
   ]
  },
  {
   "cell_type": "code",
   "execution_count": 20,
   "id": "305dec35",
   "metadata": {},
   "outputs": [],
   "source": [
    "from keras.preprocessing import image\n",
    "test_image=image.load_img(r'C:\\Users\\911246\\OneDrive - Cognizant\\Desktop\\Data-AI-ML\\lung_colon_image_set\\colon_n\\colonn4555.jpeg',target_size=(100,100))\n",
    "test_image=image.img_to_array(test_image)\n",
    "test_image=np.expand_dims(test_image,axis=0)\n",
    "result=cnn.predict(test_image)\n",
    "training_set.class_indices\n",
    "result = np.argmax(result,axis=1)"
   ]
  },
  {
   "cell_type": "code",
   "execution_count": 21,
   "id": "0db1dd3e",
   "metadata": {},
   "outputs": [
    {
     "name": "stdout",
     "output_type": "stream",
     "text": [
      "[1]\n"
     ]
    }
   ],
   "source": [
    "print(result)"
   ]
  },
  {
   "cell_type": "code",
   "execution_count": null,
   "id": "ab802bb8",
   "metadata": {},
   "outputs": [],
   "source": []
  },
  {
   "cell_type": "code",
   "execution_count": null,
   "id": "977cdbb2",
   "metadata": {},
   "outputs": [],
   "source": []
  }
 ],
 "metadata": {
  "kernelspec": {
   "display_name": "Python 3 (ipykernel)",
   "language": "python",
   "name": "python3"
  },
  "language_info": {
   "codemirror_mode": {
    "name": "ipython",
    "version": 3
   },
   "file_extension": ".py",
   "mimetype": "text/x-python",
   "name": "python",
   "nbconvert_exporter": "python",
   "pygments_lexer": "ipython3",
   "version": "3.9.12"
  }
 },
 "nbformat": 4,
 "nbformat_minor": 5
}
