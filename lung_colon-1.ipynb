{
 "cells": [
  {
   "cell_type": "markdown",
   "id": "aa87351b",
   "metadata": {},
   "source": [
    "Parameters used - \n",
    "\n",
    "1. Target_size-30,30\n",
    "2. Filters=32\n",
    "3. Nodes in dense layers - 100\n",
    "4. Epochs=2\n",
    "\n",
    "Conclusions - \n",
    "1. cnn layers such as Convolutional and pooling working successfully.\n",
    "2. Dense layer created with 100 nodes.\n",
    "3. Accuracy is less because of less target size, less number of nodes and epochs."
   ]
  },
  {
   "cell_type": "code",
   "execution_count": 1,
   "id": "6c5e4d00",
   "metadata": {},
   "outputs": [],
   "source": [
    "import tensorflow as tf\n",
    "from keras.preprocessing.image import ImageDataGenerator\n",
    "import matplotlib.pyplot as plt"
   ]
  },
  {
   "cell_type": "code",
   "execution_count": 2,
   "id": "dbc0d64d",
   "metadata": {},
   "outputs": [],
   "source": [
    "#import splitfolders\n",
    "#input_folder = r'C:\\Users\\911246\\OneDrive - Cognizant\\Desktop\\Data-AI-ML\\lung_colon_image_set'\n",
    "#splitfolders.ratio(input_folder,output=\"lung_colon2\",seed=42,ratio=(.8,.2,.0),group_prefix=None)"
   ]
  },
  {
   "cell_type": "code",
   "execution_count": 3,
   "id": "7cf8a89c",
   "metadata": {},
   "outputs": [
    {
     "name": "stdout",
     "output_type": "stream",
     "text": [
      "Found 20000 images belonging to 5 classes.\n"
     ]
    }
   ],
   "source": [
    "# train set\n",
    "train_datagen=ImageDataGenerator(rescale=1./255,shear_range=0.2,zoom_range=0.2,horizontal_flip=True,rotation_range=20,vertical_flip=True)\n",
    "training_set=train_datagen.flow_from_directory(r'lung_colon2\\train',\n",
    "                                               target_size=(30,30),batch_size=50,class_mode='categorical')"
   ]
  },
  {
   "cell_type": "code",
   "execution_count": 4,
   "id": "0afb68ae",
   "metadata": {},
   "outputs": [
    {
     "data": {
      "text/plain": [
       "array([0, 0, 0, ..., 4, 4, 4])"
      ]
     },
     "execution_count": 4,
     "metadata": {},
     "output_type": "execute_result"
    }
   ],
   "source": [
    "training_set.classes"
   ]
  },
  {
   "cell_type": "code",
   "execution_count": 5,
   "id": "04147329",
   "metadata": {},
   "outputs": [
    {
     "name": "stdout",
     "output_type": "stream",
     "text": [
      "Found 5000 images belonging to 5 classes.\n"
     ]
    }
   ],
   "source": [
    "# test set\n",
    "test_datagen=ImageDataGenerator(rescale=1./255)\n",
    "test_set=test_datagen.flow_from_directory(r'lung_colon2\\val',\n",
    "                                          target_size=(30,30),batch_size=50,class_mode='categorical')"
   ]
  },
  {
   "cell_type": "code",
   "execution_count": 6,
   "id": "b4707095",
   "metadata": {},
   "outputs": [
    {
     "data": {
      "text/plain": [
       "array([0, 0, 0, ..., 4, 4, 4])"
      ]
     },
     "execution_count": 6,
     "metadata": {},
     "output_type": "execute_result"
    }
   ],
   "source": [
    "y_test=test_set.classes\n",
    "\n",
    "y_test"
   ]
  },
  {
   "cell_type": "code",
   "execution_count": 7,
   "id": "fd53b7fa",
   "metadata": {},
   "outputs": [],
   "source": [
    "#cnn layers"
   ]
  },
  {
   "cell_type": "code",
   "execution_count": 8,
   "id": "2a785b4c",
   "metadata": {},
   "outputs": [],
   "source": [
    "cnn=tf.keras.models.Sequential()"
   ]
  },
  {
   "cell_type": "code",
   "execution_count": 9,
   "id": "92ceb4b8",
   "metadata": {},
   "outputs": [],
   "source": [
    "cnn.add(tf.keras.layers.Conv2D(filters=32,kernel_size=3,activation='relu',input_shape=[30,30,3]))"
   ]
  },
  {
   "cell_type": "code",
   "execution_count": 10,
   "id": "db480653",
   "metadata": {},
   "outputs": [],
   "source": [
    "cnn.add(tf.keras.layers.MaxPool2D(pool_size=2,strides=1))"
   ]
  },
  {
   "cell_type": "code",
   "execution_count": 11,
   "id": "ef146c68",
   "metadata": {},
   "outputs": [],
   "source": [
    "cnn.add(tf.keras.layers.Conv2D(filters=32,kernel_size=3,activation='relu'))\n",
    "cnn.add(tf.keras.layers.MaxPool2D(pool_size=2,strides=1))"
   ]
  },
  {
   "cell_type": "code",
   "execution_count": 12,
   "id": "8d72f475",
   "metadata": {},
   "outputs": [],
   "source": [
    "cnn.add(tf.keras.layers.Flatten())"
   ]
  },
  {
   "cell_type": "code",
   "execution_count": 13,
   "id": "1cebf643",
   "metadata": {},
   "outputs": [],
   "source": [
    "cnn.add(tf.keras.layers.Dense(units=100,activation='relu'))"
   ]
  },
  {
   "cell_type": "code",
   "execution_count": 14,
   "id": "d3c62b05",
   "metadata": {},
   "outputs": [],
   "source": [
    "cnn.add(tf.keras.layers.Dense(units=5,activation='softmax'))"
   ]
  },
  {
   "cell_type": "code",
   "execution_count": 15,
   "id": "f022081a",
   "metadata": {},
   "outputs": [],
   "source": [
    "#compile"
   ]
  },
  {
   "cell_type": "code",
   "execution_count": 16,
   "id": "aaec8eb9",
   "metadata": {},
   "outputs": [
    {
     "name": "stdout",
     "output_type": "stream",
     "text": [
      "Model: \"sequential\"\n",
      "_________________________________________________________________\n",
      "Layer (type)                 Output Shape              Param #   \n",
      "=================================================================\n",
      "conv2d (Conv2D)              (None, 28, 28, 32)        896       \n",
      "_________________________________________________________________\n",
      "max_pooling2d (MaxPooling2D) (None, 27, 27, 32)        0         \n",
      "_________________________________________________________________\n",
      "conv2d_1 (Conv2D)            (None, 25, 25, 32)        9248      \n",
      "_________________________________________________________________\n",
      "max_pooling2d_1 (MaxPooling2 (None, 24, 24, 32)        0         \n",
      "_________________________________________________________________\n",
      "flatten (Flatten)            (None, 18432)             0         \n",
      "_________________________________________________________________\n",
      "dense (Dense)                (None, 100)               1843300   \n",
      "_________________________________________________________________\n",
      "dense_1 (Dense)              (None, 5)                 505       \n",
      "=================================================================\n",
      "Total params: 1,853,949\n",
      "Trainable params: 1,853,949\n",
      "Non-trainable params: 0\n",
      "_________________________________________________________________\n",
      "None\n"
     ]
    }
   ],
   "source": [
    "cnn.compile(optimizer='adam',loss='categorical_crossentropy',metrics=[tf.keras.metrics.Precision(),'accuracy',tf.keras.metrics.Recall(),tf.keras.metrics.AUC(curve='ROC')])\n",
    "print(cnn.summary())"
   ]
  },
  {
   "cell_type": "code",
   "execution_count": 17,
   "id": "4adddb64",
   "metadata": {},
   "outputs": [
    {
     "name": "stdout",
     "output_type": "stream",
     "text": [
      "Epoch 1/2\n",
      "400/400 [==============================] - 218s 543ms/step - loss: 0.6212 - precision: 0.7683 - accuracy: 0.7287 - recall: 0.6795 - auc: 0.9477 - val_loss: 0.9348 - val_precision: 0.6643 - val_accuracy: 0.6578 - val_recall: 0.6470 - val_auc: 0.9128\n",
      "Epoch 2/2\n",
      "400/400 [==============================] - 216s 540ms/step - loss: 0.4194 - precision: 0.8305 - accuracy: 0.8242 - recall: 0.8163 - auc: 0.9746 - val_loss: 0.9041 - val_precision: 0.7172 - val_accuracy: 0.7148 - val_recall: 0.7112 - val_auc: 0.9286\n"
     ]
    },
    {
     "data": {
      "text/plain": [
       "<keras.callbacks.History at 0x13a2e9d6610>"
      ]
     },
     "execution_count": 17,
     "metadata": {},
     "output_type": "execute_result"
    }
   ],
   "source": [
    "cnn.fit(x=training_set, validation_data=test_set, epochs=2)"
   ]
  },
  {
   "cell_type": "code",
   "execution_count": 18,
   "id": "6364e5ea",
   "metadata": {},
   "outputs": [],
   "source": [
    "#Evaluating"
   ]
  },
  {
   "cell_type": "code",
   "execution_count": 20,
   "id": "671b0495",
   "metadata": {},
   "outputs": [
    {
     "name": "stdout",
     "output_type": "stream",
     "text": [
      "100/100 [==============================] - 39s 393ms/step - loss: 0.9041 - precision: 0.7172 - accuracy: 0.7148 - recall: 0.7112 - auc: 0.9286\n"
     ]
    }
   ],
   "source": [
    "test_loss,test_precision,test_acc,test_recall,test_AUC=cnn.evaluate(test_set)"
   ]
  },
  {
   "cell_type": "code",
   "execution_count": 21,
   "id": "957af681",
   "metadata": {},
   "outputs": [
    {
     "name": "stdout",
     "output_type": "stream",
     "text": [
      "Loss: 90.41 %\n",
      "Precision: 71.72 %\n",
      "Accuracy: 71.48 %\n",
      "Recall: 71.12 %\n",
      "AUC_ROC_Score: 92.86 %\n",
      "F1_Score: 71.42%\n"
     ]
    }
   ],
   "source": [
    "print(\"Loss: {:.2f} %\".format(test_loss*100))\n",
    "print(\"Precision: {:.2f} %\".format(test_precision*100))\n",
    "print(\"Accuracy: {:.2f} %\".format(test_acc*100))\n",
    "print(\"Recall: {:.2f} %\".format(test_recall*100))\n",
    "print(\"AUC_ROC_Score: {:.2f} %\".format(test_AUC*100))\n",
    "print(\"F1_Score: {:.2f}%\".format(((2*test_precision*test_recall)/(test_recall+test_precision))*100))"
   ]
  },
  {
   "cell_type": "code",
   "execution_count": 22,
   "id": "305dec35",
   "metadata": {},
   "outputs": [],
   "source": [
    "from keras.preprocessing import image\n",
    "import numpy as np\n",
    "test_image=image.load_img(r'C:\\Users\\911246\\OneDrive - Cognizant\\Desktop\\Data-AI-ML\\lung_colon_image_set\\colon_aca\\colonca455.jpeg',target_size=(30,30))\n",
    "test_image=image.img_to_array(test_image)\n",
    "test_image=np.expand_dims(test_image,axis=0)\n",
    "result=cnn.predict(test_image)\n",
    "training_set.class_indices\n",
    "result = np.argmax(result,axis=1)"
   ]
  },
  {
   "cell_type": "code",
   "execution_count": 23,
   "id": "0db1dd3e",
   "metadata": {},
   "outputs": [
    {
     "name": "stdout",
     "output_type": "stream",
     "text": [
      "[0]\n"
     ]
    }
   ],
   "source": [
    "print(result)"
   ]
  },
  {
   "cell_type": "code",
   "execution_count": null,
   "id": "ab802bb8",
   "metadata": {},
   "outputs": [],
   "source": []
  },
  {
   "cell_type": "code",
   "execution_count": null,
   "id": "977cdbb2",
   "metadata": {},
   "outputs": [],
   "source": []
  }
 ],
 "metadata": {
  "kernelspec": {
   "display_name": "Python 3 (ipykernel)",
   "language": "python",
   "name": "python3"
  },
  "language_info": {
   "codemirror_mode": {
    "name": "ipython",
    "version": 3
   },
   "file_extension": ".py",
   "mimetype": "text/x-python",
   "name": "python",
   "nbconvert_exporter": "python",
   "pygments_lexer": "ipython3",
   "version": "3.9.12"
  }
 },
 "nbformat": 4,
 "nbformat_minor": 5
}
